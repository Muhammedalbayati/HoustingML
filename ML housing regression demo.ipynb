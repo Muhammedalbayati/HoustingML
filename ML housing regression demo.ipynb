{
 "cells": [
  {
   "cell_type": "code",
   "execution_count": 8,
   "id": "5a5ba24e",
   "metadata": {
    "scrolled": true
   },
   "outputs": [],
   "source": [
    "import warnings\n",
    "warnings.filterwarnings('ignore')\n",
    "import pandas as pd\n",
    "import sklearn\n",
    "df = pd.read_csv('datasets/cal_housing.csv')\n",
    "cols=['longitude','latitude','housing_median_age', 'total_rooms', 'total_bedrooms', 'population', \n",
    "            'households', 'median_income', 'median_house_value' ]\n",
    "df.columns=cols\n",
    "# df.head()"
   ]
  },
  {
   "cell_type": "code",
   "execution_count": 9,
   "id": "f342f787",
   "metadata": {},
   "outputs": [],
   "source": [
    "df.drop(['longitude','latitude'],'columns',inplace=True)"
   ]
  },
  {
   "cell_type": "code",
   "execution_count": 10,
   "id": "ee5cb191",
   "metadata": {},
   "outputs": [],
   "source": [
    "# drop all rows with 'medianHouseValue' = 500001\n",
    "df = df.drop(df.loc[df['median_house_value'] == 500001].index)"
   ]
  },
  {
   "cell_type": "code",
   "execution_count": 11,
   "id": "763e8912",
   "metadata": {},
   "outputs": [],
   "source": [
    "from sklearn.preprocessing import StandardScaler\n",
    "from sklearn.model_selection import train_test_split\n",
    "x = df.drop('median_house_value', axis=1)\n",
    "y = df['median_house_value']\n",
    "\n",
    "x_train, x_test, y_train, y_test = train_test_split(x, y, test_size=0.2, random_state=0)\n",
    "    \n",
    "independent_scaler = StandardScaler()\n",
    "x_train = independent_scaler.fit_transform(x_train)\n",
    "x_test = independent_scaler.transform(x_test)"
   ]
  },
  {
   "cell_type": "code",
   "execution_count": 12,
   "id": "c0c26fac",
   "metadata": {
    "scrolled": true
   },
   "outputs": [
    {
     "name": "stdout",
     "output_type": "stream",
     "text": [
      "Linear Regression \n",
      "Training_score : 0.5197005682821527\n"
     ]
    }
   ],
   "source": [
    "from sklearn.linear_model import LinearRegression\n",
    "print(\"Linear Regression \")\n",
    "linear_model = LinearRegression(normalize=True).fit(x_train,y_train)\n",
    "\n",
    "print(\"Training_score :\",linear_model.score(x_train, y_train))"
   ]
  },
  {
   "cell_type": "code",
   "execution_count": 13,
   "id": "52da4b01",
   "metadata": {},
   "outputs": [
    {
     "data": {
      "text/html": [
       "<div>\n",
       "<style scoped>\n",
       "    .dataframe tbody tr th:only-of-type {\n",
       "        vertical-align: middle;\n",
       "    }\n",
       "\n",
       "    .dataframe tbody tr th {\n",
       "        vertical-align: top;\n",
       "    }\n",
       "\n",
       "    .dataframe thead th {\n",
       "        text-align: right;\n",
       "    }\n",
       "</style>\n",
       "<table border=\"1\" class=\"dataframe\">\n",
       "  <thead>\n",
       "    <tr style=\"text-align: right;\">\n",
       "      <th></th>\n",
       "      <th>predicted</th>\n",
       "      <th>actual</th>\n",
       "    </tr>\n",
       "  </thead>\n",
       "  <tbody>\n",
       "    <tr>\n",
       "      <th>20427</th>\n",
       "      <td>324255.7</td>\n",
       "      <td>425800.0</td>\n",
       "    </tr>\n",
       "    <tr>\n",
       "      <th>16066</th>\n",
       "      <td>281869.8</td>\n",
       "      <td>331000.0</td>\n",
       "    </tr>\n",
       "    <tr>\n",
       "      <th>6574</th>\n",
       "      <td>304627.4</td>\n",
       "      <td>241700.0</td>\n",
       "    </tr>\n",
       "    <tr>\n",
       "      <th>10127</th>\n",
       "      <td>230673.0</td>\n",
       "      <td>247400.0</td>\n",
       "    </tr>\n",
       "    <tr>\n",
       "      <th>18925</th>\n",
       "      <td>228052.9</td>\n",
       "      <td>229200.0</td>\n",
       "    </tr>\n",
       "    <tr>\n",
       "      <th>20146</th>\n",
       "      <td>152415.2</td>\n",
       "      <td>194800.0</td>\n",
       "    </tr>\n",
       "    <tr>\n",
       "      <th>16587</th>\n",
       "      <td>136059.4</td>\n",
       "      <td>108300.0</td>\n",
       "    </tr>\n",
       "    <tr>\n",
       "      <th>13436</th>\n",
       "      <td>107282.3</td>\n",
       "      <td>113800.0</td>\n",
       "    </tr>\n",
       "    <tr>\n",
       "      <th>2810</th>\n",
       "      <td>126982.7</td>\n",
       "      <td>54600.0</td>\n",
       "    </tr>\n",
       "    <tr>\n",
       "      <th>8531</th>\n",
       "      <td>201419.6</td>\n",
       "      <td>229000.0</td>\n",
       "    </tr>\n",
       "  </tbody>\n",
       "</table>\n",
       "</div>"
      ],
      "text/plain": [
       "       predicted    actual\n",
       "20427   324255.7  425800.0\n",
       "16066   281869.8  331000.0\n",
       "6574    304627.4  241700.0\n",
       "10127   230673.0  247400.0\n",
       "18925   228052.9  229200.0\n",
       "20146   152415.2  194800.0\n",
       "16587   136059.4  108300.0\n",
       "13436   107282.3  113800.0\n",
       "2810    126982.7   54600.0\n",
       "8531    201419.6  229000.0"
      ]
     },
     "execution_count": 13,
     "metadata": {},
     "output_type": "execute_result"
    }
   ],
   "source": [
    "#Prediction check\n",
    "y_pred = linear_model.predict(x_test)\n",
    "df_pred_actual=pd.DataFrame({'predicted':y_pred,'actual':y_test})\n",
    "df_pred_actual.head(10).round(1)"
   ]
  },
  {
   "cell_type": "code",
   "execution_count": 14,
   "id": "558136df",
   "metadata": {},
   "outputs": [
    {
     "data": {
      "text/plain": [
       "['linear_reg.joblib']"
      ]
     },
     "execution_count": 14,
     "metadata": {},
     "output_type": "execute_result"
    }
   ],
   "source": [
    "import joblib\n",
    "joblib.dump(linear_model,'linear_reg.joblib')"
   ]
  },
  {
   "cell_type": "code",
   "execution_count": null,
   "id": "0b9c7bff",
   "metadata": {},
   "outputs": [],
   "source": []
  },
  {
   "cell_type": "code",
   "execution_count": null,
   "id": "37e73ef7",
   "metadata": {},
   "outputs": [],
   "source": []
  },
  {
   "cell_type": "code",
   "execution_count": null,
   "id": "fd1365e0",
   "metadata": {},
   "outputs": [],
   "source": []
  },
  {
   "cell_type": "code",
   "execution_count": null,
   "id": "50e4c5ce",
   "metadata": {},
   "outputs": [],
   "source": []
  },
  {
   "cell_type": "code",
   "execution_count": null,
   "id": "f40573e0",
   "metadata": {},
   "outputs": [],
   "source": []
  }
 ],
 "metadata": {
  "kernelspec": {
   "display_name": "Python 3 (ipykernel)",
   "language": "python",
   "name": "python3"
  },
  "language_info": {
   "codemirror_mode": {
    "name": "ipython",
    "version": 3
   },
   "file_extension": ".py",
   "mimetype": "text/x-python",
   "name": "python",
   "nbconvert_exporter": "python",
   "pygments_lexer": "ipython3",
   "version": "3.9.7"
  }
 },
 "nbformat": 4,
 "nbformat_minor": 5
}
